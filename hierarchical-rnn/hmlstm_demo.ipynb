{
 "cells": [
  {
   "cell_type": "code",
   "execution_count": 1,
   "metadata": {},
   "outputs": [],
   "source": [
    "import numpy as np\n",
    "import matplotlib.pyplot as plt\n",
    "from hmlstm import HMLSTMNetwork, plot_indicators, prepare_inputs, get_text, convert_to_batches, viz_char_boundaries\n",
    "import tensorflow as tf\n",
    "\n",
    "%matplotlib inline\n",
    "%load_ext autoreload\n",
    "%autoreload 2"
   ]
  },
  {
   "cell_type": "markdown",
   "metadata": {},
   "source": [
    "### Regression example"
   ]
  },
  {
   "cell_type": "code",
   "execution_count": 2,
   "metadata": {
    "collapsed": true
   },
   "outputs": [],
   "source": [
    "# simulate multiresolution data\n",
    "num_signals = 300\n",
    "signal_length = 400\n",
    "x = np.linspace(0, 50 * np.pi, signal_length)\n",
    "signals = [np.random.normal(0, .5, size=signal_length) +\n",
    "           (2 * np.sin(.6 * x + np.random.random() * 10)) +\n",
    "           (5 * np.sin(.1* x + np.random.random() * 10))\n",
    "    for _ in range(num_signals)]\n",
    "\n",
    "split = int(num_signals * .8)\n",
    "train = signals[:split]\n",
    "test = signals[split:]"
   ]
  },
  {
   "cell_type": "code",
   "execution_count": 3,
   "metadata": {},
   "outputs": [
    {
     "data": {
      "image/png": "[encoded data removed]",
      "text/plain": [
       "<matplotlib.figure.Figure at 0x7f7dbded0860>"
      ]
     },
     "metadata": {},
     "output_type": "display_data"
    }
   ],
   "source": [
    "# example signal\n",
    "plt.plot(x, signals[5]);"
   ]
  },
  {
   "cell_type": "code",
   "execution_count": 4,
   "metadata": {
    "scrolled": true
   },
   "outputs": [],
   "source": [
    "batches_in, batches_out = convert_to_batches(signals, batch_size=10)"
   ]
  },
  {
   "cell_type": "code",
   "execution_count": 5,
   "metadata": {
    "collapsed": true
   },
   "outputs": [],
   "source": [
    "tf.reset_default_graph()\n",
    "network = HMLSTMNetwork(input_size=1, task='regression', hidden_state_sizes=30,\n",
    "                       embed_size=50, out_hidden_size=30, num_layers=2)"
   ]
  },
  {
   "cell_type": "code",
   "execution_count": 6,
   "metadata": {
    "scrolled": true
   },
   "outputs": [
    {
     "name": "stdout",
     "output_type": "stream",
     "text": [
      "loading variables...\n",
      "INFO:tensorflow:Restoring parameters from ./sinusoidal\n",
      "Epoch 0\n",
      "loss: 0.53211\n",
      "loss: 0.529624\n",
      "loss: 0.545327\n",
      "loss: 0.541836\n",
      "loss: 0.559516\n",
      "loss: 0.54082\n",
      "loss: 0.545962\n",
      "loss: 0.562599\n",
      "loss: 0.549904\n",
      "loss: 0.544392\n",
      "loss: 0.533628\n",
      "loss: 0.535238\n",
      "loss: 0.555755\n",
      "loss: 0.53791\n",
      "loss: 0.54805\n",
      "loss: 0.540646\n",
      "loss: 0.554536\n",
      "loss: 0.552407\n",
      "loss: 0.548966\n",
      "loss: 0.521315\n",
      "loss: 0.525812\n",
      "loss: 0.535961\n",
      "loss: 0.532173\n",
      "loss: 0.531217\n",
      "loss: 0.506108\n",
      "loss: 0.537566\n",
      "loss: 0.540569\n",
      "loss: 0.527848\n",
      "saving variables...\n"
     ]
    }
   ],
   "source": [
    "network.train(batches_in[:-1], batches_out[:-1], epochs=1, load_vars_from_disk=True,\n",
    "              save_vars_to_disk=True, variable_path='./sinusoidal')"
   ]
  },
  {
   "cell_type": "code",
   "execution_count": 7,
   "metadata": {
    "scrolled": false
   },
   "outputs": [
    {
     "name": "stdout",
     "output_type": "stream",
     "text": [
      "[[[ 0.  1.  0. ...,  0.  0.  0.]\n",
      "  [ 0.  1.  0. ...,  1.  1.  1.]]\n",
      "\n",
      " [[ 0.  0.  0. ...,  1.  1.  1.]\n",
      "  [ 0.  0.  0. ...,  0.  0.  0.]]\n",
      "\n",
      " [[ 1.  1.  1. ...,  0.  0.  0.]\n",
      "  [ 0.  0.  0. ...,  0.  0.  0.]]\n",
      "\n",
      " ..., \n",
      " [[ 1.  1.  1. ...,  1.  0.  0.]\n",
      "  [ 0.  0.  0. ...,  0.  1.  1.]]\n",
      "\n",
      " [[ 0.  0.  0. ...,  1.  1.  1.]\n",
      "  [ 0.  0.  0. ...,  1.  0.  1.]]\n",
      "\n",
      " [[ 0.  0.  0. ...,  1.  1.  1.]\n",
      "  [ 0.  0.  0. ...,  0.  0.  0.]]]\n"
     ]
    }
   ],
   "source": [
    "boundaries = network.predict_boundaries(batches_in[-1])\n",
    "print(boundaries)"
   ]
  },
  {
   "cell_type": "code",
   "execution_count": 8,
   "metadata": {
    "scrolled": false
   },
   "outputs": [],
   "source": [
    "predictions = network.predict(batches_in[-1])"
   ]
  },
  {
   "cell_type": "code",
   "execution_count": 9,
   "metadata": {},
   "outputs": [
    {
     "data": {
      "image/png": "[encoded data removed]",
      "text/plain": [
       "<matplotlib.figure.Figure at 0x7f7da8937f98>"
      ]
     },
     "metadata": {},
     "output_type": "display_data"
    }
   ],
   "source": [
    "plot_indicators(batches_out[-1][0], predictions[0], indicators=boundaries[0]);"
   ]
  },
  {
   "cell_type": "markdown",
   "metadata": {},
   "source": [
    "### Text classificaiton example"
   ]
  },
  {
   "cell_type": "code",
   "execution_count": 2,
   "metadata": {},
   "outputs": [],
   "source": [
    "tf.reset_default_graph()\n",
    "network = HMLSTMNetwork(output_size=27, input_size=27,\n",
    "                        embed_size=2048, out_hidden_size=1024,\n",
    "                        hidden_state_sizes=1024, \n",
    "                        task='classification')"
   ]
  },
  {
   "cell_type": "code",
   "execution_count": 3,
   "metadata": {},
   "outputs": [],
   "source": [
    "batches_in, batches_out = prepare_inputs(batch_size=2rt, truncate_len=1000, step_size=1000,\n",
    "                                         text_path='text8.txt', num_batches=3000)"
   ]
  },
  {
   "cell_type": "code",
   "execution_count": null,
   "metadata": {
    "collapsed": true
   },
   "outputs": [],
   "source": [
    "start = 0\n",
    "end = 20"
   ]
  },
  {
   "cell_type": "code",
   "execution_count": null,
   "metadata": {},
   "outputs": [],
   "source": [
    "while end < len(batches_in):\n",
    "    network.train(batches_in[start:end], batches_out[start:end], save_vars_to_disk=True, \n",
    "                  load_vars_from_disk=True, variable_path='./text8', epochs=1)\n",
    "    start = end\n",
    "    end += 20"
   ]
  },
  {
   "cell_type": "code",
   "execution_count": 9,
   "metadata": {
    "collapsed": true
   },
   "outputs": [],
   "source": [
    "batch = -1"
   ]
  },
  {
   "cell_type": "code",
   "execution_count": 10,
   "metadata": {
    "scrolled": false
   },
   "outputs": [
    {
     "name": "stdout",
     "output_type": "stream",
     "text": [
      "000000000000000000000000000000000000001111111111011011011000\n",
      "000000000000000000000000000000000000001011000000000000000000\n",
      "000000000000000000000000000000000000001000000000000000000000\n",
      "aox tight tonn  m aet vies tonfreet ahen teraar tesoner tnii\n",
      "six eight johnson notified congress that he had removed edwi\n",
      "\n",
      "000000000000000000000000000000000000000000000000000000000111\n",
      "000000000000000000000000000000000000000000000000000000000101\n",
      "000000000000000000000000000000000000000000000000000000000100\n",
      "ngt atgin al aorhesiry af ths tld tis aepoantag tis ts the c\n",
      "n stanton as secretary of war and was replacing him in the i\n",
      "\n",
      "111111111011011000000000000000000000000111111111101111111111\n",
      "100000000000000000000000000000000000000101100010110101010101\n",
      "000000000000000000000000000000000000000100000010000000000000\n",
      "n or aatith tleocile aoner l aeng  enaheu n ahes aaeuonid th\n",
      "nterim with adjutant general lorenzo thomas this violated th\n",
      "\n",
      "111011111110110110110000000000000000000000000000000000000000\n",
      "101100000000000000000000000000000000000000000000000000000000\n",
      "100000000000000000000000000000000000000000000000000000000000\n",
      "e chreee tf tn oca altiolceneaneltid ty tonfrest af toteh ah\n",
      "e tenure of office act a law enacted by congress on march tw\n",
      "\n",
      "011111111101111011000000000000000000000000000000000000000000\n",
      "101000000000000000000000000000000000000000000000000000000000\n",
      "100000000000000000000000000000000000000000000000000000000000\n",
      "o tne tight tox teven tfer tonn  m atterint eciaic l y aefpn\n",
      "o one eight six seven over johnson s veto specifically desig\n",
      "\n",
      "000000000000000000000000000000000000000000001110111111101101\n",
      "000000000000000000000000000000000000000000001011000000000000\n",
      "000000000000000000000000000000000000000000001000000000000000\n",
      "nes th troportiotate n aonn  m aav tarins the clhiooannsng t\n",
      "ned to protect stanton johnson had vetoed the act claiming i\n",
      "\n",
      "101100000000000111011111111101111111011011011000000000000000\n",
      "000000000000001010110000010110000000000000000000000000000000\n",
      "000000000000001000100000010000000000000000000000000000000000\n",
      "n tis asiers ioirion l ahe clhiotrr tner  arrpinsaiw  ng tnd\n",
      "t was unconstitutional the act said every person holding any\n",
      "\n",
      "000000000000000000000000000000000000000000011111101101111011\n",
      "000000000000000000000000000000000000000000011101000000000001\n",
      "000000000000000000000000000000000000000000010000000000000001\n",
      " aotityaf oca ah tiich aeraer aetn tnoornt d ay tld tith the\n",
      " civil office to which he has been appointed by and with the\n",
      "\n",
      "111111111110110110000000011111111111101101100000000000000000\n",
      "011000000000000000000000010110000000000000000000000000000000\n",
      "000000000000000000000000010000000000000000000000000000000000\n",
      " cleine old tonfist tf the covelida en  ae txerriy  th tim  \n",
      " advice and consent of the senate shall be entitled to hold \n",
      "\n",
      "000000000000000000000000000000000000000000000000000000000000\n",
      "000000000000000000000000000000000000000000000000000000000000\n",
      "000000000000000000000000000000000000000000000000000000000000\n",
      "tobh af oca asiivyantobhes  n aoer  aese ae n ts tine tetees\n",
      "such office until a successor shall have been in like manner\n",
      "\n",
      "000000000111111011111101100000001110111111101111111111110110\n",
      "000000000111010000000000000000001011000000000010110000000000\n",
      "000000000100000000000000000000001000000000000010000000000000\n",
      " anoornt d and tiri auanisics theseteponedg the crosident tt\n",
      " appointed and duly qualified thus removing the president s \n",
      "\n",
      "110110000000000000000000000000000000000000000000000000000000\n",
      "000000000000000000000000000000000000000000000000000000000000\n",
      "000000000000000000000000000000000000000000000000000000000000\n",
      "trosedus asiysenid toler th teponeltld an tig toreng iaotbor\n",
      "previous unlimited power to remove any of his cabinet member\n",
      "\n",
      "000000000000000000000000000111111111111110110000000000000000\n",
      "000000000000000000000000000101000000000000000000000000000000\n",
      "000000000000000000000000000100000000000000000000000000000000\n",
      "  an aatl aear  ainur tn the core aott  aatsivid ttati  an t\n",
      "s at will years later in the case myers v united states in o\n",
      "\n",
      "000000000000000000000000000000000000000000111011111110110110\n",
      "000000000000000000000000000000000000000000101100000000000000\n",
      "000000000000000000000000000000000000000000100000000000000000\n",
      "ne tine two t x the cobposenaanr iteca  then ttbh aene aire \n",
      "ne nine two six the supreme court ruled that such laws were \n",
      "\n",
      "110000000000000011101111111110111111101101101100000000000000\n",
      "000000000000000101011000001011000000000000000000000000000000\n",
      "000000000000000100010000001000000000000000000000000000000000\n",
      "an  rn tsiems ioirion l ahe covelidald tewre aiear s tn o te\n",
      "indeed unconstitutional the senate and house entered into ho\n",
      "\n",
      "000000000001110111110111111111011111101111111000000000000000\n",
      "000000000001011000001100111010101101010100000000000000000000\n",
      "000000000001000000001000100000000000000000000000000000000000\n",
      "mhtisonidaheu ntantorslid ah tolerts o the cisean oca aou ti\n",
      "t debate thomas attempted to move into the war office for wh\n",
      "\n",
      "0000000000000000000000000000001111111011\n",
      "0000000000000000000000000000001100101100\n",
      "0000000000000000000000000000001000100000\n",
      "ich atate n aav then n aneie  d theee ti\n",
      "ich stanton had thomas arrested three da\n",
      "\n"
     ]
    }
   ],
   "source": [
    "truth = get_text(batches_out[batch][0])\n",
    "predictions = network.predict(batches_in[batch], variable_path='./text8')\n",
    "boundaries = network.predict_boundaries(batches_in[batch], variable_path='./text8')\n",
    "viz_char_boundaries(truth, get_text(predictions[0]), indicators=boundaries[0])"
   ]
  },
  {
   "cell_type": "code",
   "execution_count": null,
   "metadata": {
    "collapsed": true
   },
   "outputs": [],
   "source": []
  }
 ],
 "metadata": {
  "kernelspec": {
   "display_name": "Python 3",
   "language": "python",
   "name": "python3"
  },
  "language_info": {
   "codemirror_mode": {
    "name": "ipython",
    "version": 3
   },
   "file_extension": ".py",
   "mimetype": "text/x-python",
   "name": "python",
   "nbconvert_exporter": "python",
   "pygments_lexer": "ipython3",
   "version": "3.6.0"
  }
 },
 "nbformat": 4,
 "nbformat_minor": 2
}
